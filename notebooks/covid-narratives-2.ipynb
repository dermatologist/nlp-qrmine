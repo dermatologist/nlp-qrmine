{
 "cells": [
  {
   "cell_type": "markdown",
   "id": "0",
   "metadata": {},
   "source": [
    "# NLP on Covid Narratives using QRMine\n",
    "\n",
    "## Data\n",
    "* The dataset used is a collection of 115 interview transcripts available at https://covidstories.omeka.net/\n"
   ]
  },
  {
   "cell_type": "code",
   "execution_count": null,
   "id": "1",
   "metadata": {},
   "outputs": [],
   "source": [
    "# First install qrmine\n",
    "# Uncomment the line below to install qrmine, if not already installed\n",
    "#!pip install qrmine"
   ]
  },
  {
   "cell_type": "code",
   "execution_count": null,
   "id": "2",
   "metadata": {},
   "outputs": [],
   "source": [
    "# Now let us read the data\n",
    "from qrmine import ReadData\n",
    "\n",
    "# Read the data\n",
    "corpus = ReadData()\n",
    "words_to_ignore = \"interviewee,interviewer,like,go,um,covid,COVID,think,said,know,feel,yeah,uh,just,start\"\n",
    "corpus.read_file(\"/home/beapen/Documents/covid/\", words_to_ignore)"
   ]
  },
  {
   "cell_type": "code",
   "execution_count": null,
   "id": "3",
   "metadata": {},
   "outputs": [],
   "source": [
    "# Let us create content processor, nlp processor and clustere processor\n",
    "\n",
    "from qrmine import Content\n",
    "from qrmine import Qrmine\n",
    "from qrmine import ClusterDocs\n",
    "\n",
    "content = Content()\n",
    "nlp = Qrmine()\n",
    "cluster = ClusterDocs(content)"
   ]
  },
  {
   "cell_type": "code",
   "execution_count": null,
   "id": "4",
   "metadata": {},
   "outputs": [],
   "source": [
    "# Now let us create a coding dictionary with 10 categories\n",
    "categories = 10\n",
    "all_interviews = Content(corpus.content, corpus.titles)\n",
    "nlp.print_dict(all_interviews, categories)"
   ]
  },
  {
   "cell_type": "code",
   "execution_count": null,
   "id": "5",
   "metadata": {},
   "outputs": [],
   "source": [
    "# Now let us generate topics with LDA\n",
    "cluster.documents = corpus.documents\n",
    "cluster.titles = corpus.titles\n",
    "topics = cluster.print_topics()"
   ]
  },
  {
   "cell_type": "code",
   "execution_count": null,
   "id": "6",
   "metadata": {},
   "outputs": [],
   "source": [
    "# Let us see the documents belonging to each topic\n",
    "cluster.print_clusters()"
   ]
  },
  {
   "cell_type": "code",
   "execution_count": null,
   "id": "7",
   "metadata": {},
   "outputs": [],
   "source": [
    "# Format\n",
    "df_dominant_topic = cluster.format_topics_sentences(visualize=True)\n",
    "# # Format the output\n",
    "df_dominant_topic.columns = [\n",
    "    \"Document_No\",\n",
    "    \"Title\",\n",
    "    \"Dominant_Topic\",\n",
    "    \"Topic_Perc_Contrib\",\n",
    "    \"Keywords\",\n",
    "    \"Text\",\n",
    "]\n",
    "print(df_dominant_topic.head(5))"
   ]
  },
  {
   "cell_type": "code",
   "execution_count": null,
   "id": "8",
   "metadata": {},
   "outputs": [],
   "source": [
    "# And the most representative document for each topic\n",
    "df_sorted = cluster.most_representative_docs()\n",
    "print(df_sorted.head(5))"
   ]
  },
  {
   "cell_type": "code",
   "execution_count": null,
   "id": "9",
   "metadata": {},
   "outputs": [],
   "source": [
    "from qrmine import QRVisualize\n",
    "# Now let us visualize the frequency distribution of words\n",
    "v = QRVisualize(df_dominant_topic)\n",
    "v.plot_distribution_by_topic()"
   ]
  },
  {
   "cell_type": "code",
   "execution_count": null,
   "id": "10",
   "metadata": {},
   "outputs": [],
   "source": [
    "topics = cluster.build_lda_model()\n",
    "v.plot_wordcloud(topics=topics)"
   ]
  },
  {
   "cell_type": "code",
   "execution_count": null,
   "id": "11",
   "metadata": {},
   "outputs": [],
   "source": [
    "data = cluster.vectorizer(docs=corpus.documents, titles=corpus.titles)\n",
    "v.cluster_chart(data)"
   ]
  },
  {
   "cell_type": "markdown",
   "id": "12",
   "metadata": {},
   "source": [
    "## Now let us identify the sentiment of few interview transcripts using QRMine. We can also filter the results based on the sentiment score."
   ]
  },
  {
   "cell_type": "code",
   "execution_count": null,
   "id": "13",
   "metadata": {},
   "outputs": [],
   "source": [
    "from qrmine import Sentiment\n",
    "s = Sentiment()\n",
    "\n",
    "\n",
    "for title, doc in zip(corpus.titles[:5], corpus.documents[:5]):\n",
    "    # Get the sentiment score\n",
    "    print(f\"Title: {title}\")\n",
    "    s.get_sentiment(doc, tags=[], sentence=False, verbose=True)\n"
   ]
  }
 ],
 "metadata": {
  "kernelspec": {
   "display_name": "default",
   "language": "python",
   "name": "python3"
  },
  "language_info": {
   "codemirror_mode": {
    "name": "ipython",
    "version": 3
   },
   "file_extension": ".py",
   "mimetype": "text/x-python",
   "name": "python",
   "nbconvert_exporter": "python",
   "pygments_lexer": "ipython3",
   "version": "3.11.9"
  }
 },
 "nbformat": 4,
 "nbformat_minor": 5
}
